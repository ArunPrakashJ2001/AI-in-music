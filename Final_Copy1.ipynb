{
  "nbformat": 4,
  "nbformat_minor": 0,
  "metadata": {
    "colab": {
      "name": "Final-Copy1.ipynb",
      "provenance": [],
      "collapsed_sections": [
        "9Jt0AA6D40l9",
        "wlR-zUDC40l9",
        "-8ogvGCm40l-",
        "DZeMkqLS40l_",
        "25xYl9FZ40l_"
      ],
      "include_colab_link": true
    },
    "kernelspec": {
      "display_name": "Python 3",
      "language": "python",
      "name": "python3"
    },
    "language_info": {
      "codemirror_mode": {
        "name": "ipython",
        "version": 3
      },
      "file_extension": ".py",
      "mimetype": "text/x-python",
      "name": "python",
      "nbconvert_exporter": "python",
      "pygments_lexer": "ipython3",
      "version": "3.8.3"
    }
  },
  "cells": [
    {
      "cell_type": "markdown",
      "metadata": {
        "id": "view-in-github",
        "colab_type": "text"
      },
      "source": [
        "<a href=\"https://colab.research.google.com/github/ArunPrakashJ2001/AI-in-music/blob/main/Final_Copy1.ipynb\" target=\"_parent\"><img src=\"https://colab.research.google.com/assets/colab-badge.svg\" alt=\"Open In Colab\"/></a>"
      ]
    },
    {
      "cell_type": "markdown",
      "metadata": {
        "id": "yFgBSPPj40l1"
      },
      "source": [
        "## Final"
      ]
    },
    {
      "cell_type": "markdown",
      "metadata": {
        "id": "zm27hd9M40l3"
      },
      "source": [
        "\n",
        "### 1. Reading the excel file [\"Blank\" , \"English Text\"]"
      ]
    },
    {
      "cell_type": "code",
      "metadata": {
        "colab": {
          "base_uri": "https://localhost:8080/"
        },
        "id": "PbJYz0th5Qi0",
        "outputId": "d9e4cf9b-1043-4832-cc59-cd4bc97f958b"
      },
      "source": [
        "! pip3 install googletrans==3.1.0a0"
      ],
      "execution_count": 1,
      "outputs": [
        {
          "output_type": "stream",
          "text": [
            "Collecting googletrans==3.1.0a0\n",
            "  Downloading googletrans-3.1.0a0.tar.gz (19 kB)\n",
            "Collecting httpx==0.13.3\n",
            "  Downloading httpx-0.13.3-py3-none-any.whl (55 kB)\n",
            "\u001b[K     |████████████████████████████████| 55 kB 2.5 MB/s \n",
            "\u001b[?25hCollecting rfc3986<2,>=1.3\n",
            "  Downloading rfc3986-1.5.0-py2.py3-none-any.whl (31 kB)\n",
            "Requirement already satisfied: chardet==3.* in /usr/local/lib/python3.7/dist-packages (from httpx==0.13.3->googletrans==3.1.0a0) (3.0.4)\n",
            "Collecting hstspreload\n",
            "  Downloading hstspreload-2021.7.5-py3-none-any.whl (1.2 MB)\n",
            "\u001b[K     |████████████████████████████████| 1.2 MB 18.1 MB/s \n",
            "\u001b[?25hCollecting httpcore==0.9.*\n",
            "  Downloading httpcore-0.9.1-py3-none-any.whl (42 kB)\n",
            "\u001b[K     |████████████████████████████████| 42 kB 1.2 MB/s \n",
            "\u001b[?25hCollecting sniffio\n",
            "  Downloading sniffio-1.2.0-py3-none-any.whl (10 kB)\n",
            "Requirement already satisfied: idna==2.* in /usr/local/lib/python3.7/dist-packages (from httpx==0.13.3->googletrans==3.1.0a0) (2.10)\n",
            "Requirement already satisfied: certifi in /usr/local/lib/python3.7/dist-packages (from httpx==0.13.3->googletrans==3.1.0a0) (2021.5.30)\n",
            "Collecting h11<0.10,>=0.8\n",
            "  Downloading h11-0.9.0-py2.py3-none-any.whl (53 kB)\n",
            "\u001b[K     |████████████████████████████████| 53 kB 2.2 MB/s \n",
            "\u001b[?25hCollecting h2==3.*\n",
            "  Downloading h2-3.2.0-py2.py3-none-any.whl (65 kB)\n",
            "\u001b[K     |████████████████████████████████| 65 kB 3.6 MB/s \n",
            "\u001b[?25hCollecting hpack<4,>=3.0\n",
            "  Downloading hpack-3.0.0-py2.py3-none-any.whl (38 kB)\n",
            "Collecting hyperframe<6,>=5.2.0\n",
            "  Downloading hyperframe-5.2.0-py2.py3-none-any.whl (12 kB)\n",
            "Building wheels for collected packages: googletrans\n",
            "  Building wheel for googletrans (setup.py) ... \u001b[?25l\u001b[?25hdone\n",
            "  Created wheel for googletrans: filename=googletrans-3.1.0a0-py3-none-any.whl size=16368 sha256=85f5d082531453813c1318d5161afb53b85c27bbea3b524e0a4e31d4827e6938\n",
            "  Stored in directory: /root/.cache/pip/wheels/0c/be/fe/93a6a40ffe386e16089e44dad9018ebab9dc4cb9eb7eab65ae\n",
            "Successfully built googletrans\n",
            "Installing collected packages: hyperframe, hpack, sniffio, h2, h11, rfc3986, httpcore, hstspreload, httpx, googletrans\n",
            "Successfully installed googletrans-3.1.0a0 h11-0.9.0 h2-3.2.0 hpack-3.0.0 hstspreload-2021.7.5 httpcore-0.9.1 httpx-0.13.3 hyperframe-5.2.0 rfc3986-1.5.0 sniffio-1.2.0\n"
          ],
          "name": "stdout"
        }
      ]
    },
    {
      "cell_type": "code",
      "metadata": {
        "id": "SCSn3dTb40l3"
      },
      "source": [
        "import googletrans\n",
        "import regex as re\n",
        "import pandas as pd\n",
        "from googletrans import Translator"
      ],
      "execution_count": 2,
      "outputs": []
    },
    {
      "cell_type": "code",
      "metadata": {
        "colab": {
          "base_uri": "https://localhost:8080/"
        },
        "id": "57QZtHPp40l4",
        "outputId": "1f3341f6-d60d-4d53-a714-5b1ee87149a9"
      },
      "source": [
        "from google.colab import drive\n",
        "drive.mount('/content/drive')"
      ],
      "execution_count": 3,
      "outputs": [
        {
          "output_type": "stream",
          "text": [
            "Mounted at /content/drive\n"
          ],
          "name": "stdout"
        }
      ]
    },
    {
      "cell_type": "code",
      "metadata": {
        "id": "99diqXRC5wJ3"
      },
      "source": [
        "data=pd.read_excel(\"/content/drive/MyDrive/Check_final.xlsx\",sheet_name='Sheet1',index_col=None)\n",
        "data.drop(data.columns[0], axis = 1, inplace = True)\n",
        "data.dropna(inplace = True)"
      ],
      "execution_count": 4,
      "outputs": []
    },
    {
      "cell_type": "code",
      "metadata": {
        "colab": {
          "base_uri": "https://localhost:8080/",
          "height": 203
        },
        "id": "J9ZwkN_540l4",
        "outputId": "68e97a15-81b1-40c3-fb15-e718b0d9a7ed"
      },
      "source": [
        "data.head()"
      ],
      "execution_count": 5,
      "outputs": [
        {
          "output_type": "execute_result",
          "data": {
            "text/html": [
              "<div>\n",
              "<style scoped>\n",
              "    .dataframe tbody tr th:only-of-type {\n",
              "        vertical-align: middle;\n",
              "    }\n",
              "\n",
              "    .dataframe tbody tr th {\n",
              "        vertical-align: top;\n",
              "    }\n",
              "\n",
              "    .dataframe thead th {\n",
              "        text-align: right;\n",
              "    }\n",
              "</style>\n",
              "<table border=\"1\" class=\"dataframe\">\n",
              "  <thead>\n",
              "    <tr style=\"text-align: right;\">\n",
              "      <th></th>\n",
              "      <th>English Text</th>\n",
              "    </tr>\n",
              "  </thead>\n",
              "  <tbody>\n",
              "    <tr>\n",
              "      <th>0</th>\n",
              "      <td>to make the soil fine tilth, improve aeration ...</td>\n",
              "    </tr>\n",
              "    <tr>\n",
              "      <th>1</th>\n",
              "      <td>ploughing will loosen the soil, and along with...</td>\n",
              "    </tr>\n",
              "    <tr>\n",
              "      <th>2</th>\n",
              "      <td>this is generally done, to help farm yard manu...</td>\n",
              "    </tr>\n",
              "    <tr>\n",
              "      <th>3</th>\n",
              "      <td>this is generally done after final levelling, ...</td>\n",
              "    </tr>\n",
              "    <tr>\n",
              "      <th>4</th>\n",
              "      <td>flat bed is the most preferred land form for m...</td>\n",
              "    </tr>\n",
              "  </tbody>\n",
              "</table>\n",
              "</div>"
            ],
            "text/plain": [
              "                                        English Text\n",
              "0  to make the soil fine tilth, improve aeration ...\n",
              "1  ploughing will loosen the soil, and along with...\n",
              "2  this is generally done, to help farm yard manu...\n",
              "3  this is generally done after final levelling, ...\n",
              "4  flat bed is the most preferred land form for m..."
            ]
          },
          "metadata": {
            "tags": []
          },
          "execution_count": 5
        }
      ]
    },
    {
      "cell_type": "markdown",
      "metadata": {
        "id": "9Jt0AA6D40l9"
      },
      "source": [
        "### 2. Translating using google translation function"
      ]
    },
    {
      "cell_type": "code",
      "metadata": {
        "id": "Ym7ZyqzU40l9"
      },
      "source": [
        "english=list(data[\"English Text\"][:10]) # translation of the first 10 sentences...\n",
        "translator = Translator()\n",
        "from_lang = 'en'\n",
        "to_lang = 'hi'"
      ],
      "execution_count": 6,
      "outputs": []
    },
    {
      "cell_type": "code",
      "metadata": {
        "id": "sps9uMDD40l9"
      },
      "source": [
        "hindi_translations=[]\n",
        "for sent in english:\n",
        "    result=translator.translate(sent,src= from_lang,dest= to_lang)\n",
        "    hindi_translations.append(result.text)"
      ],
      "execution_count": 14,
      "outputs": []
    },
    {
      "cell_type": "code",
      "metadata": {
        "colab": {
          "base_uri": "https://localhost:8080/"
        },
        "id": "r7Y0h42itYE9",
        "outputId": "ec2252a1-034b-4514-caa7-f27905a06a10"
      },
      "source": [
        "hindi_translations"
      ],
      "execution_count": 15,
      "outputs": [
        {
          "output_type": "execute_result",
          "data": {
            "text/plain": [
              "['मिट्टी को अच्छी तरह से झुकाने के लिए, वातन में सुधार करें जो बेहतर जड़ प्रवेश सुनिश्चित करता है।',\n",
              " 'जुताई करने से मिट्टी ढीली हो जाती है, और हैरोइंग के साथ-साथ ढेले टूट जाते हैं, और मिट्टी अच्छी तरह से भुरभुरी हो जाती है। यह फसलों के लिए वातन और बेहतर जड़ पैठ में सुधार करता है - जो अच्छे अंकुरण और फसल के विकास के लिए महत्वपूर्ण है। 15 सेमी से अधिक गहरी जुताई से बचें, क्योंकि इससे पोषक तत्व गहरी मिट्टी से ऊपरी सतह पर आ सकते हैं, और जो धुलाई के कारण नष्ट हो सकते हैं।',\n",
              " 'यह आमतौर पर खेत की खाद (fym) को सड़ने और मिट्टी में अच्छी तरह से एकीकृत करने में मदद करने के लिए किया जाता है। fym मिट्टी में आवश्यक भौतिक, जैविक और ट्रेस तत्वों के लिए प्रदान करता है। हालांकि fym मात्रा के अनुपात में कम पोषक तत्व प्रदान करता है।',\n",
              " 'यह आम तौर पर अंतिम समतलीकरण के बाद किया जाता है, ताकि रोपाई की बेहतर जड़ वृद्धि को बढ़ावा दिया जा सके और बिना जड़ क्षति के आसान रोपाई के लिए। समतल क्यारियों की तुलना में, उठी हुई क्यारियों का निर्माण बेहतर जल निकासी का लाभ देता है और सिंचाई क्षमता को बढ़ाता है। यह मिट्टी के संघनन को भी कम करता है।',\n",
              " 'अधिकांश फसलों के लिए समतल क्यारी सबसे पसंदीदा भूमि रूप है, क्योंकि यह रोपाई में बेहतर जड़ वृद्धि को बढ़ावा देता है। यह अन्य तरीकों की तुलना में अधिक आसान और किफायती है। भूमि को समतल करने के बाद, समतल क्यारियों का निर्माण और भूखंडों में अंतर करने से बीजों की वृद्धि में सहायता मिलती है। यह आमतौर पर मानसून के दौरान पसंद नहीं किया जाता है - जल-जमाव की स्थिति से बचने के लिए।',\n",
              " 'मिट्टी को सोलराइज़ करना, कवक, बैक्टीरिया, नेमाटोड, कीट, घुन कीट और खरपतवार के बीज सहित मिट्टी जनित पौधों के रोगजनकों को मारता है। जब सोलराइज्ड सीड बेड पर पौध उगाई जाती है तो पौध मृत्यु दर कम होती है।',\n",
              " 'मिट्टी को धूमिल करना, कवक, बैक्टीरिया, नेमाटोड, कीट, घुन कीट और खरपतवार के बीज सहित मिट्टी जनित पौधों के रोगजनकों को मारता है।',\n",
              " 'कवकनाशी से मिट्टी का उपचार एक निवारक उपाय है। यह मृदा जनित कवक के इनोकुलम को समाप्त करता है, जो फसल वृद्धि चक्र के दौरान संभावित नुकसान का कारण बन सकता है।',\n",
              " 'फफूंदनाशक से मिट्टी को गीला करना एक निवारक उपाय है। यह मृदा जनित कवक के इनोकुलम को समाप्त करता है, जो फसल वृद्धि चक्र के दौरान संभावित नुकसान का कारण बन सकता है।',\n",
              " 'कीटनाशक के साथ मिट्टी का उपचार एक निवारक उपाय है। इससे मिट्टी में कीटों के अंडे, लार्वा और प्यूपा समाप्त हो जाते हैं, जो फसल के विकास चक्र के दौरान संभावित नुकसान पहुंचा सकते हैं।']"
            ]
          },
          "metadata": {
            "tags": []
          },
          "execution_count": 15
        }
      ]
    },
    {
      "cell_type": "code",
      "metadata": {
        "id": "qkooWiiSs3z2"
      },
      "source": [
        "hindi_translations=[re.sub(',', \" , \", i) for i in hindi_translations]"
      ],
      "execution_count": 16,
      "outputs": []
    },
    {
      "cell_type": "code",
      "metadata": {
        "colab": {
          "base_uri": "https://localhost:8080/"
        },
        "id": "PpjDHaB3tWdo",
        "outputId": "c91b7383-bc0f-4cf4-cf33-8eec469469c0"
      },
      "source": [
        "hindi_translations"
      ],
      "execution_count": 17,
      "outputs": [
        {
          "output_type": "execute_result",
          "data": {
            "text/plain": [
              "['मिट्टी को अच्छी तरह से झुकाने के लिए ,  वातन में सुधार करें जो बेहतर जड़ प्रवेश सुनिश्चित करता है।',\n",
              " 'जुताई करने से मिट्टी ढीली हो जाती है ,  और हैरोइंग के साथ-साथ ढेले टूट जाते हैं ,  और मिट्टी अच्छी तरह से भुरभुरी हो जाती है। यह फसलों के लिए वातन और बेहतर जड़ पैठ में सुधार करता है - जो अच्छे अंकुरण और फसल के विकास के लिए महत्वपूर्ण है। 15 सेमी से अधिक गहरी जुताई से बचें ,  क्योंकि इससे पोषक तत्व गहरी मिट्टी से ऊपरी सतह पर आ सकते हैं ,  और जो धुलाई के कारण नष्ट हो सकते हैं।',\n",
              " 'यह आमतौर पर खेत की खाद (fym) को सड़ने और मिट्टी में अच्छी तरह से एकीकृत करने में मदद करने के लिए किया जाता है। fym मिट्टी में आवश्यक भौतिक ,  जैविक और ट्रेस तत्वों के लिए प्रदान करता है। हालांकि fym मात्रा के अनुपात में कम पोषक तत्व प्रदान करता है।',\n",
              " 'यह आम तौर पर अंतिम समतलीकरण के बाद किया जाता है ,  ताकि रोपाई की बेहतर जड़ वृद्धि को बढ़ावा दिया जा सके और बिना जड़ क्षति के आसान रोपाई के लिए। समतल क्यारियों की तुलना में ,  उठी हुई क्यारियों का निर्माण बेहतर जल निकासी का लाभ देता है और सिंचाई क्षमता को बढ़ाता है। यह मिट्टी के संघनन को भी कम करता है।',\n",
              " 'अधिकांश फसलों के लिए समतल क्यारी सबसे पसंदीदा भूमि रूप है ,  क्योंकि यह रोपाई में बेहतर जड़ वृद्धि को बढ़ावा देता है। यह अन्य तरीकों की तुलना में अधिक आसान और किफायती है। भूमि को समतल करने के बाद ,  समतल क्यारियों का निर्माण और भूखंडों में अंतर करने से बीजों की वृद्धि में सहायता मिलती है। यह आमतौर पर मानसून के दौरान पसंद नहीं किया जाता है - जल-जमाव की स्थिति से बचने के लिए।',\n",
              " 'मिट्टी को सोलराइज़ करना ,  कवक ,  बैक्टीरिया ,  नेमाटोड ,  कीट ,  घुन कीट और खरपतवार के बीज सहित मिट्टी जनित पौधों के रोगजनकों को मारता है। जब सोलराइज्ड सीड बेड पर पौध उगाई जाती है तो पौध मृत्यु दर कम होती है।',\n",
              " 'मिट्टी को धूमिल करना ,  कवक ,  बैक्टीरिया ,  नेमाटोड ,  कीट ,  घुन कीट और खरपतवार के बीज सहित मिट्टी जनित पौधों के रोगजनकों को मारता है।',\n",
              " 'कवकनाशी से मिट्टी का उपचार एक निवारक उपाय है। यह मृदा जनित कवक के इनोकुलम को समाप्त करता है ,  जो फसल वृद्धि चक्र के दौरान संभावित नुकसान का कारण बन सकता है।',\n",
              " 'फफूंदनाशक से मिट्टी को गीला करना एक निवारक उपाय है। यह मृदा जनित कवक के इनोकुलम को समाप्त करता है ,  जो फसल वृद्धि चक्र के दौरान संभावित नुकसान का कारण बन सकता है।',\n",
              " 'कीटनाशक के साथ मिट्टी का उपचार एक निवारक उपाय है। इससे मिट्टी में कीटों के अंडे ,  लार्वा और प्यूपा समाप्त हो जाते हैं ,  जो फसल के विकास चक्र के दौरान संभावित नुकसान पहुंचा सकते हैं।']"
            ]
          },
          "metadata": {
            "tags": []
          },
          "execution_count": 17
        }
      ]
    },
    {
      "cell_type": "code",
      "metadata": {
        "colab": {
          "base_uri": "https://localhost:8080/",
          "height": 203
        },
        "id": "_qpJaOYw40l9",
        "outputId": "a3dfba77-a636-4dc3-e5b6-7c170747525c"
      },
      "source": [
        "corrections=pd.read_excel(\"/content/drive/MyDrive/Check_final.xlsx\",sheet_name='Sheet2',index_col=None)\n",
        "corrections.head()"
      ],
      "execution_count": 18,
      "outputs": [
        {
          "output_type": "execute_result",
          "data": {
            "text/html": [
              "<div>\n",
              "<style scoped>\n",
              "    .dataframe tbody tr th:only-of-type {\n",
              "        vertical-align: middle;\n",
              "    }\n",
              "\n",
              "    .dataframe tbody tr th {\n",
              "        vertical-align: top;\n",
              "    }\n",
              "\n",
              "    .dataframe thead th {\n",
              "        text-align: right;\n",
              "    }\n",
              "</style>\n",
              "<table border=\"1\" class=\"dataframe\">\n",
              "  <thead>\n",
              "    <tr style=\"text-align: right;\">\n",
              "      <th></th>\n",
              "      <th>English words</th>\n",
              "      <th>Wrong HI words</th>\n",
              "      <th>Right HI words</th>\n",
              "    </tr>\n",
              "  </thead>\n",
              "  <tbody>\n",
              "    <tr>\n",
              "      <th>0</th>\n",
              "      <td>subsoil</td>\n",
              "      <td>उप-मृदा</td>\n",
              "      <td>नीचे की मिट्‍टी</td>\n",
              "    </tr>\n",
              "    <tr>\n",
              "      <th>1</th>\n",
              "      <td>hard</td>\n",
              "      <td>कठोर</td>\n",
              "      <td>कड़ा</td>\n",
              "    </tr>\n",
              "    <tr>\n",
              "      <th>2</th>\n",
              "      <td>drainage</td>\n",
              "      <td>निकासी</td>\n",
              "      <td>जलनिकास</td>\n",
              "    </tr>\n",
              "    <tr>\n",
              "      <th>3</th>\n",
              "      <td>fine tilth</td>\n",
              "      <td>भुरभुरी</td>\n",
              "      <td>बारिख मिट्टी की सतह</td>\n",
              "    </tr>\n",
              "    <tr>\n",
              "      <th>4</th>\n",
              "      <td>portrays</td>\n",
              "      <td>चित्रों</td>\n",
              "      <td>पोर्ट्रे</td>\n",
              "    </tr>\n",
              "  </tbody>\n",
              "</table>\n",
              "</div>"
            ],
            "text/plain": [
              "  English words Wrong HI words       Right HI words\n",
              "0       subsoil        उप-मृदा      नीचे की मिट्‍टी\n",
              "1          hard           कठोर                 कड़ा\n",
              "2      drainage         निकासी              जलनिकास\n",
              "3    fine tilth        भुरभुरी  बारिख मिट्टी की सतह\n",
              "4      portrays        चित्रों             पोर्ट्रे"
            ]
          },
          "metadata": {
            "tags": []
          },
          "execution_count": 18
        }
      ]
    },
    {
      "cell_type": "markdown",
      "metadata": {
        "id": "wlR-zUDC40l9"
      },
      "source": [
        "### 3. Replace words with the right one "
      ]
    },
    {
      "cell_type": "code",
      "metadata": {
        "id": "tmZ4ouxf40l-"
      },
      "source": [
        "res = {corrections.iloc[i][1] : corrections.iloc[i][2] for i in range(len(corrections))}"
      ],
      "execution_count": 19,
      "outputs": []
    },
    {
      "cell_type": "code",
      "metadata": {
        "id": "ojD-eASes3z3"
      },
      "source": [
        "for i in res.keys():\n",
        "    for j,k in enumerate(hindi_translations):\n",
        "        if(i+\" \" in k):\n",
        "            hindi_translations[j]=re.sub(i+' ' , res[i]+ ' ' , k)\n",
        "\n",
        "final_translations=hindi_translations       "
      ],
      "execution_count": 20,
      "outputs": []
    },
    {
      "cell_type": "code",
      "metadata": {
        "colab": {
          "base_uri": "https://localhost:8080/"
        },
        "id": "NUeQdU7TtRGx",
        "outputId": "09f45808-6546-4c32-ae43-2a2e0b3e4e6b"
      },
      "source": [
        "final_translations"
      ],
      "execution_count": 21,
      "outputs": [
        {
          "output_type": "execute_result",
          "data": {
            "text/plain": [
              "['मिट्टी को अच्छी तरह से झुकाने के लिए ,  वातन में सुधार करें जो बेहतर जड़ प्रवेश सुनिश्चित करता है।',\n",
              " 'जुताई करने से मिट्टी ढीली हो जाती है ,  और हैरोइंग के साथ-साथ ढेले टूट जाते हैं ,  और मिट्टी अच्छी तरह से बारिख मिट्टी की सतह हो जाती है। यह फसलों के लिए वातन और बेहतर जड़ पैठ में सुधार करता है - जो अच्छे अंकुरण और फसल के विकास के लिए महत्वपूर्ण है। 15 सेमी से अधिक गहरी जुताई से बचें ,  क्योंकि इससे पोषक तत्व गहरी मिट्टी से ऊपरी सतह पर आ सकते हैं ,  और जो धुलाई के कारण नष्ट हो सकते हैं।',\n",
              " 'यह आमतौर पर खेत की खाद (fym) को सड़ने और मिट्टी में अच्छी तरह से एकीकृत करने में मदद करने के लिए किया जाता है। fym मिट्टी में आवश्यक सेम्पल विषय 12 ,  जैविक और सूक्ष्म तत्वों के लिए प्रदान करता है। हालांकि fym मात्रा के अनुपात में कम पोषक तत्व प्रदान करता है।',\n",
              " 'यह आम तौर पर अंतिम समतलीकरण के बाद किया जाता है ,  ताकि रोपाई की बेहतर जड़ वृद्धि को बढ़ावा दिया जा सके और बिना जड़ नुक़सान के आसान रोपाई के लिए। समतल क्यारियों की तुलना में ,  उत्थित क्यारी का निर्माण बेहतर जल जलनिकास का लाभ देता है और सिंचाई क्षमता को बढ़ाता है। यह मिट्टी के संघनन को भी कम करता है।',\n",
              " 'अधिकांश फसलों के लिए समतल क्यारी सबसे पसंदीदा भूमि रूप है ,  क्योंकि यह रोपाई में बेहतर जड़ वृद्धि को बढ़ावा देता है। यह अन्य तरीकों की तुलना में अधिक आसान और किफायती है। भूमि को समतल करने के बाद ,  समतल क्यारियों का निर्माण और भूखंडों में अंतर करने से बीजों की वृद्धि में सहायता मिलती है। यह आमतौर पर वर्षा-ऋतु (मानसून) के दौरान पसंद नहीं किया जाता है - जल-जमाव की स्थिति से बचने के लिए।',\n",
              " 'मिट्टी को सौरकरण करना ,  कवक ,  बैक्टीरिया ,  नेमाटोड ,  कीट ,  घुन कीट और खरपतवार के बीज सहित मिट्टी जनित पौधों के रोगजनकों को मारता है। जब सौरकृत सीड बेड पर पौध उगाई जाती है तो पौध मृत्यु दर कम होती है।',\n",
              " 'मिट्टी को धूमिल करना ,  कवक ,  बैक्टीरिया ,  नेमाटोड ,  कीट ,  घुन कीट और खरपतवार के बीज सहित मिट्टी जनित पौधों के रोगजनकों को मारता है।',\n",
              " 'कवकनाशी से मिट्टी का उपचार एक निवारक उपाय है। यह मिट्टी जनित कवक के संरोप (इनोकुलम) को समाप्त करता है ,  जो फसल वृद्धि चक्र के दौरान संभावित नुकसान का कारण बन सकता है।',\n",
              " 'फफूंदनाशक से मिट्टी को गीला करना एक निवारक उपाय है। यह मिट्टी जनित कवक के संरोप (इनोकुलम) को समाप्त करता है ,  जो फसल वृद्धि चक्र के दौरान संभावित नुकसान का कारण बन सकता है।',\n",
              " 'कीटनाशक के साथ मिट्टी का उपचार एक निवारक उपाय है। इससे मिट्टी में कीटों के अंडे ,  लार्वा और प्यूपा समाप्त हो जाते हैं ,  जो फसल के विकास चक्र के दौरान संभावित नुकसान पहुंचा सकते हैं।']"
            ]
          },
          "metadata": {
            "tags": []
          },
          "execution_count": 21
        }
      ]
    },
    {
      "cell_type": "markdown",
      "metadata": {
        "id": "MYu1bE5xs3z3"
      },
      "source": [
        "### (If the dictionary is of single words)"
      ]
    },
    {
      "cell_type": "code",
      "metadata": {
        "id": "fbHiwoZR40l-"
      },
      "source": [
        "final_translations=[]\n",
        "for i in hindi_translations:\n",
        "    corrected_hindi=[]\n",
        "    for j in i.split():\n",
        "        if(j in res.keys()):\n",
        "            corrected_hindi.append(res[j])\n",
        "        else:\n",
        "            corrected_hindi.append(j)\n",
        "            \n",
        "    corrected_sent=' '.join(word for word in corrected_hindi)   \n",
        "    final_translations.append(corrected_sent)"
      ],
      "execution_count": null,
      "outputs": []
    },
    {
      "cell_type": "markdown",
      "metadata": {
        "id": "-8ogvGCm40l-"
      },
      "source": [
        "### 4. Add a key and create excel file [\"Key\" , \"English Text\" ,\"Wrong Hindi Text\", \"Correct Hindi Text\"]"
      ]
    },
    {
      "cell_type": "code",
      "metadata": {
        "colab": {
          "base_uri": "https://localhost:8080/"
        },
        "id": "5V19CMPq8AVB",
        "outputId": "3154f1b4-6740-4444-f9b5-f546230cc502"
      },
      "source": [
        "! pip install gtts"
      ],
      "execution_count": 22,
      "outputs": [
        {
          "output_type": "stream",
          "text": [
            "Collecting gtts\n",
            "  Downloading gTTS-2.2.3-py3-none-any.whl (25 kB)\n",
            "Requirement already satisfied: six in /usr/local/lib/python3.7/dist-packages (from gtts) (1.15.0)\n",
            "Requirement already satisfied: click in /usr/local/lib/python3.7/dist-packages (from gtts) (7.1.2)\n",
            "Requirement already satisfied: requests in /usr/local/lib/python3.7/dist-packages (from gtts) (2.23.0)\n",
            "Requirement already satisfied: idna<3,>=2.5 in /usr/local/lib/python3.7/dist-packages (from requests->gtts) (2.10)\n",
            "Requirement already satisfied: chardet<4,>=3.0.2 in /usr/local/lib/python3.7/dist-packages (from requests->gtts) (3.0.4)\n",
            "Requirement already satisfied: certifi>=2017.4.17 in /usr/local/lib/python3.7/dist-packages (from requests->gtts) (2021.5.30)\n",
            "Requirement already satisfied: urllib3!=1.25.0,!=1.25.1,<1.26,>=1.21.1 in /usr/local/lib/python3.7/dist-packages (from requests->gtts) (1.24.3)\n",
            "Installing collected packages: gtts\n",
            "Successfully installed gtts-2.2.3\n"
          ],
          "name": "stdout"
        }
      ]
    },
    {
      "cell_type": "code",
      "metadata": {
        "id": "P0uszIYE40l-"
      },
      "source": [
        "from gtts import gTTS\n",
        "import os\n",
        "import pandas as pd"
      ],
      "execution_count": 23,
      "outputs": []
    },
    {
      "cell_type": "code",
      "metadata": {
        "id": "3aTM9qIB40l_"
      },
      "source": [
        "key=[]\n",
        "for i in range(len(final_translations)):\n",
        "    if(i<10):\n",
        "        key.append(\"ACTEH00\"+ str(i))\n",
        "    elif(i<100):\n",
        "        key.append(\"ACTEH0\"+ str(i))\n",
        "    elif(i<1000):\n",
        "        key.append(\"ACTEH\"+str(i))\n",
        "        \n",
        "final_data=pd.DataFrame()\n",
        "final_data.insert(0, \"Key\", key )\n",
        "final_data.insert(1,\"English Text\",english)\n",
        "final_data.insert(2,\"Wrong Hindi Text\",hindi_translations)\n",
        "final_data.insert(3,\"Correct Hindi Text\",final_translations)\n",
        "\n",
        "final_data.head()\n",
        "final_data.to_excel(\"Final.xlsx\")"
      ],
      "execution_count": 24,
      "outputs": []
    },
    {
      "cell_type": "markdown",
      "metadata": {
        "id": "DZeMkqLS40l_"
      },
      "source": [
        "### 5. Text to speech with google api"
      ]
    },
    {
      "cell_type": "code",
      "metadata": {
        "id": "T3L8R_--40l_"
      },
      "source": [
        "for index,text in zip(final_data[\"Key\"],final_data[\"Correct Hindi Text\"]):\n",
        "    path= \"/content/drive/MyDrive/Hindi_voice/\"+str(index) + \".mp3\" # a directory named Hindi_voice must exist\n",
        "    tts = gTTS(text=text, lang='hi')\n",
        "    tts.save(path)"
      ],
      "execution_count": 25,
      "outputs": []
    },
    {
      "cell_type": "code",
      "metadata": {
        "id": "Jt3VApOcuw8v"
      },
      "source": [
        ""
      ],
      "execution_count": null,
      "outputs": []
    }
  ]
}