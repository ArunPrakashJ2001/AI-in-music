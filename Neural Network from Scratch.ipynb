{
 "cells": [
  {
   "cell_type": "code",
   "execution_count": 1,
   "metadata": {},
   "outputs": [],
   "source": [
    "import numpy as np"
   ]
  },
  {
   "cell_type": "markdown",
   "metadata": {},
   "source": [
    "## Single Neuron"
   ]
  },
  {
   "cell_type": "code",
   "execution_count": 2,
   "metadata": {},
   "outputs": [],
   "source": [
    "inputs=[2,1,4,5]\n",
    "weights=[0.2,0.5,-0.7,0.1]"
   ]
  },
  {
   "cell_type": "code",
   "execution_count": 3,
   "metadata": {},
   "outputs": [],
   "source": [
    "def sigmoid(x):\n",
    "    return 1/(1+np.exp(-x))\n",
    "\n",
    "def activate(inputs,weights):\n",
    "    h = 0\n",
    "    for x,w in zip(inputs,weights):\n",
    "        h += x*w    \n",
    "    return sigmoid(np.dot(inputs,weights))  #  return sigmoid(h) "
   ]
  },
  {
   "cell_type": "code",
   "execution_count": 4,
   "metadata": {},
   "outputs": [
    {
     "data": {
      "text/plain": [
       "0.19781611144141825"
      ]
     },
     "execution_count": 4,
     "metadata": {},
     "output_type": "execute_result"
    }
   ],
   "source": [
    "activate(inputs,weights)"
   ]
  },
  {
   "cell_type": "markdown",
   "metadata": {},
   "source": [
    "## NN from Scratch"
   ]
  },
  {
   "cell_type": "code",
   "execution_count": 106,
   "metadata": {},
   "outputs": [],
   "source": [
    "class MLP:\n",
    "    \n",
    "    def __init__(self,num_inputs=4,num_layers=[3 , 5],num_outputs=2):\n",
    "        self.num_inputs = num_inputs\n",
    "        self.num_layers = num_layers\n",
    "        self.num_outputs = num_outputs\n",
    "        \n",
    "        layers = [self.num_inputs] + self.num_layers + [self.num_outputs]\n",
    "        self.weights=[]\n",
    "        for i in range(len(layers)-1):\n",
    "            w=np.random.rand(layers[i],layers[i+1])\n",
    "            self.weights.append(w)\n",
    "            \n",
    "        activations=[]\n",
    "        for i in range(len(layers)):\n",
    "            a=np.zeros(layers[i])\n",
    "            activations.append(a)\n",
    "        self.activations=activations\n",
    "        \n",
    "        derivatives=[]\n",
    "        for i in range(len(layers)-1):\n",
    "            d=np.zeros((layers[i],layers[i+1]))\n",
    "            derivatives.append(d)\n",
    "        self.derivatives=derivatives\n",
    "        \n",
    "        \n",
    "    def forward_propagation(self,inputs):\n",
    "        activations=inputs\n",
    "        self.activations[0]=inputs\n",
    "        for w in range(len(self.weights)):\n",
    "            net_inputs=np.dot(activations,self.weights[w]) \n",
    "            activations=self.sigmoid(net_inputs) \n",
    "            self.activations[w+1]=activations \n",
    "        return activations\n",
    "    \n",
    "    def sigmoid(self,x):\n",
    "        return 1/(1+np.exp(-x))\n",
    "\n",
    "    def back_propagate(self, error):\n",
    "            for i in reversed(range(len(self.derivatives))):\n",
    "                activations = self.activations[i+1]\n",
    "                delta = error * self.sigmoid_derivative(activations)\n",
    "                delta_re = delta.reshape(delta.shape[0], -1).T\n",
    "                current_activations = self.activations[i]\n",
    "                current_activations = current_activations.reshape(current_activations.shape[0],-1)\n",
    "                self.derivatives[i] = np.dot(current_activations, delta_re)\n",
    "                error = np.dot(delta, self.weights[i].T)\n",
    "\n",
    "    def sigmoid_derivative(self,x):\n",
    "        return x*(1 -x)\n",
    "    \n",
    "    def train(self,inputs,outputs,epochs,learning_rate):\n",
    "        for i in range(epochs):\n",
    "            sum_errors=0\n",
    "            for j, input in enumerate(inputs):\n",
    "                target = targets[j]\n",
    "                output = self.forward_propagation(input)\n",
    "                error = target - output\n",
    "                self.back_propagate(error)\n",
    "                self.gradient_descent(learning_rate)\n",
    "                sum_errors += self.mse(target, output)\n",
    "            print(\"Error: {} at epoch {}\".format(sum_errors / len(items), i+1))\n",
    "\n",
    "        print(\"Training complete!\")\n",
    "        print(\"=====\")\n",
    "            \n",
    "    def gradient_descent(self, learning_rate=1):\n",
    "        for i in range(len(self.weights)):\n",
    "            weights = self.weights[i]\n",
    "            derivatives = self.derivatives[i]\n",
    "            weights += derivatives * learning_rate\n",
    "\n",
    "    def mse(self, target, output):\n",
    "        return np.average((target - output) ** 2)        "
   ]
  },
  {
   "cell_type": "code",
   "execution_count": 108,
   "metadata": {},
   "outputs": [
    {
     "name": "stdout",
     "output_type": "stream",
     "text": [
      "Error: 0.049612811327903364 at epoch 1\n",
      "Error: 0.040950177103048206 at epoch 2\n",
      "Error: 0.04094789731453375 at epoch 3\n",
      "Error: 0.040945684522290096 at epoch 4\n",
      "Error: 0.04094353127707658 at epoch 5\n",
      "Error: 0.04094143043899942 at epoch 6\n",
      "Error: 0.04093937506156694 at epoch 7\n",
      "Error: 0.040937358354995255 at epoch 8\n",
      "Error: 0.04093537365002408 at epoch 9\n",
      "Error: 0.040933414361910135 at epoch 10\n",
      "Error: 0.04093147395426009 at epoch 11\n",
      "Error: 0.040929545902353294 at epoch 12\n",
      "Error: 0.04092762365559133 at epoch 13\n",
      "Error: 0.04092570059868863 at epoch 14\n",
      "Error: 0.040923770011187355 at epoch 15\n",
      "Error: 0.0409218250248478 at epoch 16\n",
      "Error: 0.0409198585784114 at epoch 17\n",
      "Error: 0.040917863369186847 at epoch 18\n",
      "Error: 0.04091583180083279 at epoch 19\n",
      "Error: 0.040913755926635 at epoch 20\n",
      "Error: 0.04091162738747274 at epoch 21\n",
      "Error: 0.04090943734355349 at epoch 22\n",
      "Error: 0.040907176398852746 at epoch 23\n",
      "Error: 0.04090483451702536 at epoch 24\n",
      "Error: 0.04090240092735229 at epoch 25\n",
      "Error: 0.04089986401904282 at epoch 26\n",
      "Error: 0.04089721122191637 at epoch 27\n",
      "Error: 0.04089442887113755 at epoch 28\n",
      "Error: 0.040891502053245855 at epoch 29\n",
      "Error: 0.04088841443020365 at epoch 30\n",
      "Error: 0.040885148037557016 at epoch 31\n",
      "Error: 0.0408816830520303 at epoch 32\n",
      "Error: 0.040877997522935056 at epoch 33\n",
      "Error: 0.040874067060615964 at epoch 34\n",
      "Error: 0.04086986447373022 at epoch 35\n",
      "Error: 0.04086535934539118 at epoch 36\n",
      "Error: 0.04086051753601777 at epoch 37\n",
      "Error: 0.04085530059799603 at epoch 38\n",
      "Error: 0.040849665083843134 at epoch 39\n",
      "Error: 0.040843561725265855 at epoch 40\n",
      "Error: 0.04083693445508225 at epoch 41\n",
      "Error: 0.04082971923710743 at epoch 42\n",
      "Error: 0.04082184266035866 at epoch 43\n",
      "Error: 0.040813220242770086 at epoch 44\n",
      "Error: 0.04080375437527284 at epoch 45\n",
      "Error: 0.04079333181865022 at epoch 46\n",
      "Error: 0.04078182064171086 at epoch 47\n",
      "Error: 0.04076906645838474 at epoch 48\n",
      "Error: 0.040754887781069817 at epoch 49\n",
      "Error: 0.04073907025503947 at epoch 50\n",
      "Training complete!\n",
      "=====\n",
      "Our network believes that 0.3 + 0.1 is equal to 0.40105337381090445\n"
     ]
    }
   ],
   "source": [
    "items = np.array([[np.random.rand()/2 for _ in range(2)] for _ in range(1000)])\n",
    "targets = np.array([[i[0] + i[1]] for i in items])\n",
    "\n",
    "mlp = MLP(2, [5 , 4], 1)\n",
    "mlp.train(items, targets, 50, 0.1)\n",
    "\n",
    "input = np.array([0.3, 0.1])\n",
    "target = np.array([0.4])\n",
    "\n",
    "print(\"Our network believes that {} + {} is equal to {}\".format(input[0], input[1], output[0]))"
   ]
  },
  {
   "cell_type": "code",
   "execution_count": null,
   "metadata": {},
   "outputs": [],
   "source": []
  }
 ],
 "metadata": {
  "kernelspec": {
   "display_name": "Python 3",
   "language": "python",
   "name": "python3"
  },
  "language_info": {
   "codemirror_mode": {
    "name": "ipython",
    "version": 3
   },
   "file_extension": ".py",
   "mimetype": "text/x-python",
   "name": "python",
   "nbconvert_exporter": "python",
   "pygments_lexer": "ipython3",
   "version": "3.8.3"
  }
 },
 "nbformat": 4,
 "nbformat_minor": 4
}
